{
 "cells": [
  {
   "cell_type": "markdown",
   "id": "3974a6ab-ea95-4e2c-a926-5cb4e952ec19",
   "metadata": {},
   "source": [
    "# My Jupyter Notebook on IBM Watson Studio"
   ]
  },
  {
   "cell_type": "markdown",
   "id": "fbc1dbb5-983d-40b5-9733-815987464701",
   "metadata": {},
   "source": [
    "**Monica Tress**\n",
    "\n",
    "I would like to start a new career in Data Science :)"
   ]
  },
  {
   "cell_type": "markdown",
   "id": "9d6435e8-1ca0-4256-bfea-441ac99a6110",
   "metadata": {},
   "source": [
    "*I am interested in data science because it has applications on a wide range of topics. Plenty of options to choose from.*"
   ]
  },
  {
   "cell_type": "markdown",
   "id": "0327da12-8d1c-4f6f-a576-66b9c0f4d87e",
   "metadata": {
    "tags": []
   },
   "source": [
    "### Simple code that adds 3 plus 3"
   ]
  },
  {
   "cell_type": "code",
   "execution_count": 3,
   "id": "248825b9-69a7-4d6b-bb15-71c35a71019f",
   "metadata": {},
   "outputs": [
    {
     "data": {
      "text/plain": [
       "6"
      ]
     },
     "execution_count": 3,
     "metadata": {},
     "output_type": "execute_result"
    }
   ],
   "source": [
    "3+3"
   ]
  },
  {
   "cell_type": "markdown",
   "id": "6e2a76c1-acde-4b74-9963-227f5034e56e",
   "metadata": {},
   "source": [
    "Horizontal Rule\n",
    "\n",
    "---\n",
    "\n",
    "- Bullet\n",
    "- lists\n",
    "- yeah\n",
    "\n",
    "1. Numbered\n",
    "4. lists\n",
    "4. as well\n",
    "\n",
    "\n",
    "\n",
    "\n",
    "\n",
    "\n",
    "\n"
   ]
  },
  {
   "cell_type": "markdown",
   "id": "f1e7e876-33b7-4a7b-abde-a77ec6893639",
   "metadata": {},
   "source": [
    "\n",
    "| Tables        | Are           | easy  |\n",
    "| ------------- |:-------------:| -----:|\n",
    "| to | do | :) |\n",
    "\n",
    "\n",
    "[This is a hyperlink](https://www.link.com)\n",
    "\n",
    "~~Strikethrough~~"
   ]
  },
  {
   "cell_type": "code",
   "execution_count": null,
   "id": "e0cbdcdf-886a-4138-840f-54a8dc18cfcd",
   "metadata": {},
   "outputs": [],
   "source": []
  }
 ],
 "metadata": {
  "kernelspec": {
   "display_name": "Python",
   "language": "python",
   "name": "conda-env-python-py"
  },
  "language_info": {
   "codemirror_mode": {
    "name": "ipython",
    "version": 3
   },
   "file_extension": ".py",
   "mimetype": "text/x-python",
   "name": "python",
   "nbconvert_exporter": "python",
   "pygments_lexer": "ipython3",
   "version": "3.7.12"
  }
 },
 "nbformat": 4,
 "nbformat_minor": 5
}
